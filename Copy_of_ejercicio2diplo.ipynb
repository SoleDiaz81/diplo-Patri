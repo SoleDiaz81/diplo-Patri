{
  "nbformat": 4,
  "nbformat_minor": 0,
  "metadata": {
    "colab": {
      "provenance": [],
      "include_colab_link": true
    },
    "kernelspec": {
      "name": "python3",
      "display_name": "Python 3"
    },
    "language_info": {
      "name": "python"
    }
  },
  "cells": [
    {
      "cell_type": "markdown",
      "metadata": {
        "id": "view-in-github",
        "colab_type": "text"
      },
      "source": [
        "<a href=\"https://colab.research.google.com/github/SoleDiaz81/diplo-Patri/blob/main/Copy_of_ejercicio2diplo.ipynb\" target=\"_parent\"><img src=\"https://colab.research.google.com/assets/colab-badge.svg\" alt=\"Open In Colab\"/></a>"
      ]
    },
    {
      "cell_type": "markdown",
      "source": [
        "**EJERCICIO** 2 DIPLO PATRI\n"
      ],
      "metadata": {
        "id": "Jjxji000jlQZ"
      }
    },
    {
      "cell_type": "markdown",
      "source": [
        "Ejercicio A"
      ],
      "metadata": {
        "id": "wvhjOFjDljH-"
      }
    },
    {
      "cell_type": "code",
      "source": [
        "eleccion=input(\"Quiere permanecer en la pagina?\")\n",
        "if eleccion==\"si\":\n",
        "    valor=True\n",
        "    print (\"Bienvenido\")\n",
        "else:\n",
        "    valor = False\n",
        "    print (\"Nos vemos\")\n"
      ],
      "metadata": {
        "colab": {
          "base_uri": "https://localhost:8080/"
        },
        "id": "lFZR60c1jpfb",
        "outputId": "7dbe9e96-55a8-406b-bc7e-43d47cca42c1"
      },
      "execution_count": null,
      "outputs": [
        {
          "output_type": "stream",
          "name": "stdout",
          "text": [
            "Quiere permanecer en la pagina?no\n",
            "Nos vemos\n"
          ]
        }
      ]
    },
    {
      "cell_type": "code",
      "source": [],
      "metadata": {
        "id": "a9bjOLrRkhBQ"
      },
      "execution_count": null,
      "outputs": []
    },
    {
      "cell_type": "markdown",
      "source": [
        "EJERCICIO B"
      ],
      "metadata": {
        "id": "oWlOscCnloEE"
      }
    },
    {
      "cell_type": "code",
      "source": [
        "numero=input(\"Ingrese un numero: \")\n",
        "if int(numero)%2==0:\n",
        "    print(\"El numero es par\")\n",
        "else:\n",
        "    print(\"El numero es impar\")"
      ],
      "metadata": {
        "colab": {
          "base_uri": "https://localhost:8080/"
        },
        "id": "-ikUdE1tlq4L",
        "outputId": "6680fc83-2d8c-476f-b836-b3f457c2730f"
      },
      "execution_count": null,
      "outputs": [
        {
          "output_type": "stream",
          "name": "stdout",
          "text": [
            "Ingrese un numero: 7\n",
            "El numero es impar\n"
          ]
        }
      ]
    },
    {
      "cell_type": "markdown",
      "source": [
        "EJERCICIO C"
      ],
      "metadata": {
        "id": "3zulcgP4mHlz"
      }
    },
    {
      "cell_type": "code",
      "source": [
        "edad=int(input(\"Ingrese su edad: \"))\n",
        "if edad >18 and edad <=63:\n",
        "    print(\"Ud. Si esta en edad de trabajar\")\n",
        "elif edad==64:\n",
        "    print(\"Ud. esta a 1 año de jubilarse\")\n",
        "else:\n",
        "    print(\"Ud. NO esta en edad de trabajar\")"
      ],
      "metadata": {
        "colab": {
          "base_uri": "https://localhost:8080/"
        },
        "id": "5co9u71jmLXv",
        "outputId": "d4550df1-bd0c-4b44-c980-68cf87391922"
      },
      "execution_count": null,
      "outputs": [
        {
          "output_type": "stream",
          "name": "stdout",
          "text": [
            "Ingrese su edad: 65\n",
            "Ud. NO esta en edad de trabajar\n"
          ]
        }
      ]
    },
    {
      "cell_type": "markdown",
      "source": [
        "EJERCICIO D"
      ],
      "metadata": {
        "id": "K-vVFZNDw9XH"
      }
    },
    {
      "cell_type": "code",
      "source": [
        "edad1=int(input(\"Ingrese su edad: \"))\n",
        "print (\"Ud. ha cumplido los sig. años\")\n",
        "for i in range(edad1):\n",
        "    print(2025-edad1+i)"
      ],
      "metadata": {
        "id": "oKMRoLPAnqfn",
        "colab": {
          "base_uri": "https://localhost:8080/"
        },
        "outputId": "c5a78865-8065-4342-b8ee-661972b82396"
      },
      "execution_count": null,
      "outputs": [
        {
          "output_type": "stream",
          "name": "stdout",
          "text": [
            "Ingrese su edad: 43\n",
            "Ud. ha cumplido los sig. años\n",
            "1982\n",
            "1983\n",
            "1984\n",
            "1985\n",
            "1986\n",
            "1987\n",
            "1988\n",
            "1989\n",
            "1990\n",
            "1991\n",
            "1992\n",
            "1993\n",
            "1994\n",
            "1995\n",
            "1996\n",
            "1997\n",
            "1998\n",
            "1999\n",
            "2000\n",
            "2001\n",
            "2002\n",
            "2003\n",
            "2004\n",
            "2005\n",
            "2006\n",
            "2007\n",
            "2008\n",
            "2009\n",
            "2010\n",
            "2011\n",
            "2012\n",
            "2013\n",
            "2014\n",
            "2015\n",
            "2016\n",
            "2017\n",
            "2018\n",
            "2019\n",
            "2020\n",
            "2021\n",
            "2022\n",
            "2023\n",
            "2024\n"
          ]
        }
      ]
    },
    {
      "cell_type": "markdown",
      "source": [
        "EJERCICIO E"
      ],
      "metadata": {
        "id": "Xb0DBSYozBvw"
      }
    },
    {
      "cell_type": "code",
      "source": [
        "contras=input(\"Ingrese su contraseña: \")\n",
        "passsword= \"abc123\"\n",
        "\n",
        "while contras!=passsword:\n",
        "    print(\"Contraseña incorrecta\")\n",
        "    contras=input(\"Ingrese su contraseña: \")\n",
        "print(\"Contraseña correcta\")"
      ],
      "metadata": {
        "id": "-hvMjjMMd7ao",
        "colab": {
          "base_uri": "https://localhost:8080/"
        },
        "outputId": "a42fcebb-fd72-4543-c73b-8ef3df76d875"
      },
      "execution_count": null,
      "outputs": [
        {
          "output_type": "stream",
          "name": "stdout",
          "text": [
            "Ingrese su contraseña: 2020\n",
            "Contraseña incorrecta\n",
            "Ingrese su contraseña: 2021\n",
            "Contraseña incorrecta\n",
            "Ingrese su contraseña: ABC123\n",
            "Contraseña incorrecta\n",
            "Ingrese su contraseña: abc123\n",
            "Contraseña correcta\n"
          ]
        }
      ]
    },
    {
      "cell_type": "markdown",
      "source": [
        "EJERCICIO F"
      ],
      "metadata": {
        "id": "pTNp-zbiheuP"
      }
    },
    {
      "cell_type": "code",
      "source": [
        "variable1=input(\"Introduzca una frase: \")\n",
        "variable2= (variable1.count(\"a\"))\n",
        "print ((\"Su frase tiene \")+ str(variable2) + (\" letras A\"))"
      ],
      "metadata": {
        "colab": {
          "base_uri": "https://localhost:8080/"
        },
        "id": "7YFj0NznhQk4",
        "outputId": "5dbcd657-f5c3-46db-f0d8-d0c1e2a65fcd"
      },
      "execution_count": null,
      "outputs": [
        {
          "output_type": "stream",
          "name": "stdout",
          "text": [
            "Introduzca una frase: holaaa\n",
            "Su frase tiene 3 letras A\n"
          ]
        }
      ]
    },
    {
      "cell_type": "markdown",
      "source": [
        "EJERCICIO G"
      ],
      "metadata": {
        "id": "wiHFI4G5jO4g"
      }
    },
    {
      "cell_type": "code",
      "source": [],
      "metadata": {
        "id": "Ez4KVlzksQYA"
      },
      "execution_count": null,
      "outputs": []
    }
  ]
}