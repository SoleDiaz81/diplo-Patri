{
  "nbformat": 4,
  "nbformat_minor": 0,
  "metadata": {
    "colab": {
      "provenance": []
    },
    "kernelspec": {
      "name": "python3",
      "display_name": "Python 3"
    },
    "language_info": {
      "name": "python"
    }
  },
  "cells": [
    {
      "cell_type": "markdown",
      "source": [
        "Prueba ejercicios\n",
        "\n",
        "Unidad 2 ejercicio 7"
      ],
      "metadata": {
        "id": "FSzL6m-O5KFL"
      }
    },
    {
      "cell_type": "code",
      "execution_count": 1,
      "metadata": {
        "colab": {
          "base_uri": "https://localhost:8080/"
        },
        "id": "2bdlBWzl4-Ql",
        "outputId": "a360da70-4769-42c0-d25c-8f45ad6a30cb"
      },
      "outputs": [
        {
          "output_type": "stream",
          "name": "stdout",
          "text": [
            "hola ejercicio 7\n"
          ]
        }
      ],
      "source": [
        "print (\"hola ejercicio 7\")"
      ]
    }
  ]
}